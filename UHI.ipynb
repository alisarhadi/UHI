{
 "cells": [
  {
   "cell_type": "markdown",
   "id": "amber-knife",
   "metadata": {},
   "source": [
    "## Urban Heat Island (UHI) map for Washington DC\n",
    "#In this tutorial, we attempt to quantify the temperature on July 8th, 2018 across Washington DC in the US.\n",
    "\n",
    "## 1. Landsat (raster) temperature data for DC\n",
    "#The input data used here is Landsat satellite image captured on the above-mentioned date.\n",
    "\n",
    "#By running the following code, we can we get the summary of the Landsat Surface Temperature (LST) through raster functions:\n",
    "\n"
   ]
  },
  {
   "cell_type": "code",
   "execution_count": null,
   "id": "comfortable-shopper",
   "metadata": {},
   "outputs": [],
   "source": [
    "library(raster) # reading in and wrangling landsat data\n",
    "library(sf) # reading in and wrangling contextual data\n",
    "library(tidyverse)\n",
    "library(NMF)\n",
    "library(ggtext) # text in plots\n",
    "library(showtext) # more fonts\n",
    "library(tibble)\n",
    "library(BiocManager)\n",
    "library(ggplot2)\n",
    "options(warn=-1)\n",
    "font_add_google(\"Lato\", regular.wt = 300, bold.wt = 700) #\n",
    "\n",
    "#The image captured on 2018-07-08\n",
    "landsat_dc_july18 <- raster(\"LST_F_20180708.tif\") # saved the downloaded files in a data/ folder\n",
    "\n",
    "#The image captured on 2015-07-16\n",
    "#landsat_dc_july18 <- raster(\"LST_F_20180708.tif\") # saved the downloaded files in a data/ folder\n",
    "\n",
    "# water features in the city\n",
    "water <- st_read(\"https://opendata.arcgis.com/datasets/db65ff0038ed4270acb1435d931201cf_24.geojson\") %>%\n",
    "  st_transform(st_crs(landsat_dc_july18)) # use the same coordinate reference system as the landsat data\n",
    "\n",
    "landsat_dc_july18 # gives info like extent, crs, min/max\n",
    "\n",
    "\n",
    "summary(landsat_dc_july18) # gives distribution summary based on a sample"
   ]
  },
  {
   "cell_type": "markdown",
   "id": "quality-logic",
   "metadata": {},
   "source": [
    "#From this we can see that the surface temperature ranges from 72 to 106 F with a median of 88 F."
   ]
  },
  {
   "cell_type": "markdown",
   "id": "antique-relevance",
   "metadata": {},
   "source": [
    "## 2. Minimum Viable Product map\n",
    "#To plot the data, we can converte the raster values into a dataframe format. After that, using ggplot2 we can visualize the map.\n",
    "\n"
   ]
  },
  {
   "cell_type": "code",
   "execution_count": null,
   "id": "ahead-conditioning",
   "metadata": {},
   "outputs": [],
   "source": [
    "temp_spdf <- as(landsat_dc_july18, \"SpatialPointsDataFrame\") # create spatialpoints dataframe\n",
    "temp_df <- as_tibble(temp_spdf) # convert that to a plain tibble\n",
    "colnames(temp_df) <- c(\"value\", \"x\", \"y\")\n",
    "\n",
    "water_sp <- as(water, \"Spatial\")\n",
    "\n",
    "\n",
    "ggplot() +\n",
    "  geom_raster(data = temp_df, aes(x = x, y = y,  fill = value), interpolate = TRUE) +\n",
    "  geom_polygon(data = water_sp, aes(x = long, y = lat, group = group), color = \"gray90\", fill = \"white\") +\n",
    "  coord_equal() + # make sure that the x and y axis are comparable\n",
    "  theme_minimal()\n"
   ]
  },
  {
   "cell_type": "markdown",
   "id": "swiss-backing",
   "metadata": {},
   "source": [
    "#As is shown, it will be hard to see the temperature patterns with this color scheme. A diverging color scheme would highlight relative low and high values. "
   ]
  },
  {
   "cell_type": "markdown",
   "id": "bigger-circumstances",
   "metadata": {},
   "source": [
    "## 3. Adding A Color Scheme:"
   ]
  },
  {
   "cell_type": "code",
   "execution_count": null,
   "id": "southeast-florist",
   "metadata": {},
   "outputs": [],
   "source": [
    "ggplot() +\n",
    "  geom_raster(data = temp_df, aes(x = x, y = y,  fill = value), interpolate = TRUE) +\n",
    "  geom_polygon(data = water_sp, aes(x = long, y = lat, group = group), color = \"gray90\", fill = \"white\") +\n",
    "  theme_minimal() +\n",
    "  coord_equal() +\n",
    "  scale_fill_gradientn(colors = rcartocolor::carto_pal(name = \"TealRose\", n = 7), breaks = c(72.5, 88, 106.6), labels = c(\"72\", \"88\", \"106\"), name = \"\")"
   ]
  },
  {
   "cell_type": "markdown",
   "id": "domestic-mexico",
   "metadata": {},
   "source": [
    "#Now, the temperature pattern is obvious across the city!."
   ]
  },
  {
   "cell_type": "markdown",
   "id": "professional-smith",
   "metadata": {},
   "source": [
    "## 4. Labeling the Map:\n",
    "\n",
    "\n",
    "\n",
    "\n",
    "\n",
    "#We can also add the text neighborhood labels and descriptions in the margins.\n",
    "#To do this we can use the ggtext package which allows for markdown formatting.\n",
    "#To figure out the coordinates of the labels, we can use the axis ticks as a starting point and then try to find the right place. "
   ]
  },
  {
   "cell_type": "code",
   "execution_count": null,
   "id": "suitable-notebook",
   "metadata": {},
   "outputs": [],
   "source": [
    "labels <- tibble(x = c(396000, 395900, 390500,\n",
    "                       399700, 396000, 399700, 399200, 389070, 390000),\n",
    "                 y = c(138300, 136600, 140000,\n",
    "                       133000, 140000, 140500, 146400, 147000, 130100),\n",
    "                 lab = c(\"W A S H I N G T O N\", \"downtown\", \"palisades\", \"anacostia\", \"columbia<br> heights\", \"brookland\", \"**Hotter:** Hotspots in<br>Brookland, Columbia<br>Heights, and LeDroit<br>Park hit **100 to 106 F**\", \"**Cooler:** Forested Rock<br>Creek Park recorded the<br>city's lowest temperatures<br>and helped to cool down<br>surrounding areas\", \"**Urban green spaces**<br>are an invaluable<br>resources for cooling<br>urban neighborhoods.<br>They help promote<br>walkability and improve<br>quality of living. Even a<br>few trees help!\"))\n",
    "ggplot() +\n",
    "  geom_raster(data = temp_df, aes(x = x, y = y,  fill = value), interpolate = TRUE) +\n",
    "  geom_polygon(data = water_sp, aes(x = long, y = lat, group = group), color = \"gray90\", fill = \"white\") +\n",
    "  geom_richtext(data = labels, aes(x = x, y = y, label = lab), fill = NA, label.color = NA, # remove background and outline\n",
    "                label.padding = grid::unit(rep(0, 4), \"pt\"),  color = \"#656c78\", hjust = 0)+\n",
    "  theme_minimal() +\n",
    "  coord_equal() +\n",
    "  scale_fill_gradientn(colors = rcartocolor::carto_pal(name = \"TealRose\", n = 7), breaks = c(72.5, 88, 106.6), labels = c(\"72\", \"88\", \"106\"), name = \"\")\n",
    "\n"
   ]
  },
  {
   "cell_type": "markdown",
   "id": "intelligent-bailey",
   "metadata": {},
   "source": [
    "## 5. Reformatting the Legend"
   ]
  },
  {
   "cell_type": "code",
   "execution_count": null,
   "id": "comprehensive-bedroom",
   "metadata": {},
   "outputs": [],
   "source": [
    "ggplot() +\n",
    "  geom_raster(data = temp_df, aes(x = x, y = y,  fill = value), interpolate = TRUE) +\n",
    "  geom_polygon(data = water_sp, aes(x = long, y = lat, group = group), color = \"gray90\", fill = \"white\") +\n",
    "  geom_richtext(data = labels, aes(x = x, y = y, label = lab), fill = NA, label.color = NA, # remove background and outline\n",
    "                label.padding = grid::unit(rep(0, 4), \"pt\"),  color = \"#656c78\", hjust = 0)+\n",
    "  theme_minimal() +\n",
    "  coord_equal() +\n",
    "  scale_fill_gradientn(colors = rcartocolor::carto_pal(name = \"TealRose\", n = 7), breaks = c(72.5, 88, 106.6), labels = c(\"72 F\", \"88\", \"106\"), name = \"\") +\n",
    "  theme(legend.position = \"bottom\",\n",
    "        axis.text = element_blank(),\n",
    "        axis.title = element_blank(),\n",
    "        panel.grid = element_line(\"transparent\"),\n",
    "       # text = element_text(color = \"#656c78\", family = \"Lato\"),\n",
    "        plot.caption = element_text(hjust = 0)) +\n",
    "  guides(fill = guide_colourbar(barheight = 0.3, barwidth = 20, direction = \"horizontal\", ticks = FALSE)) +\n",
    "  labs(caption = \"July 8, 2018\\nSource: DC Open Data\")\n"
   ]
  },
  {
   "cell_type": "markdown",
   "id": "amended-watershed",
   "metadata": {},
   "source": [
    "## 6. Detect Hottest Area:\n",
    "\n",
    "#To differentiate the hottest areas in the city, we can find places/buildings that their temperatures reach at least 95 F.\n",
    "\n"
   ]
  },
  {
   "cell_type": "code",
   "execution_count": null,
   "id": "quantitative-booking",
   "metadata": {},
   "outputs": [],
   "source": [
    "options(warn=-1)\n",
    "over95 <- temp_df %>%\n",
    "  filter(value >=95) # where the value is 95 or greater\n",
    "\n",
    "labels2 <- tibble(x = c(396000, 395900, 390500,\n",
    "                        399700, 396000, 399700, 399200, 389000),\n",
    "                  y = c(138300, 136600, 140000,\n",
    "                        133000, 140000, 140500, 146400, 132500),\n",
    "                  lab = c(\"W A S H I N G T O N\", \"downtown\", \"palisades\", \"anacostia\", \"columbia<br> heights\", \"brookland\", \"The locations in **red** all<br>reached at least **95 F** while<br> the median was only **88 F**\", \"The hotter areas are primarily<br>in the NE quadrant which has<br>historically been more industrial\"))\n",
    "\n",
    "ggplot() +\n",
    "  geom_raster(data = temp_df, aes(x = x, y = y), fill = \"gray90\", interpolate = TRUE) +\n",
    "  geom_raster(data = over95, aes(x = x, y = y), fill = \"#d0587e\") +\n",
    "  geom_polygon(data = water_sp, aes(x = long, y = lat, group = group), color = \"gray90\", fill = \"white\") +\n",
    "  geom_richtext(data = labels2, aes(x = x, y = y, label = lab), fill = NA, label.color = NA, # remove background and outline\n",
    "                label.padding = grid::unit(rep(0, 4), \"pt\"),  color = \"#656c78\", hjust = 0)+\n",
    "  theme_minimal() +\n",
    "  coord_equal() +\n",
    "  scale_fill_gradientn(colors = rcartocolor::carto_pal(name = \"TealRose\", n = 7), breaks = c(72.5, 88, 106.6), labels = c(\"72\", \"88\", \"106\"), name = \"\") +\n",
    "  theme(legend.position = \"bottom\",\n",
    "        axis.text = element_blank(),\n",
    "        axis.title = element_blank(),\n",
    "        panel.grid = element_line(\"transparent\"),\n",
    "        #text = element_text(color = \"#656c78\", family = \"Lato\"),\n",
    "        plot.caption = element_text(hjust = 0)) +\n",
    "  guides(fill = guide_colourbar(barheight = 0.3, barwidth = 15, direction = \"horizontal\", ticks = FALSE)) +\n",
    "  labs(caption = \"July 8, 2018\\nSource: DC Open Data\")"
   ]
  },
  {
   "cell_type": "code",
   "execution_count": null,
   "id": "designed-liverpool",
   "metadata": {},
   "outputs": [],
   "source": []
  },
  {
   "cell_type": "code",
   "execution_count": null,
   "id": "lucky-yield",
   "metadata": {},
   "outputs": [],
   "source": []
  }
 ],
 "metadata": {
  "kernelspec": {
   "display_name": "R",
   "language": "R",
   "name": "ir"
  },
  "language_info": {
   "codemirror_mode": "r",
   "file_extension": ".r",
   "mimetype": "text/x-r-source",
   "name": "R",
   "pygments_lexer": "r",
   "version": "3.5.3"
  }
 },
 "nbformat": 4,
 "nbformat_minor": 5
}
